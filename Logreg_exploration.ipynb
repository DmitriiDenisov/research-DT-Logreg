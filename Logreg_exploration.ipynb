{
  "nbformat": 4,
  "nbformat_minor": 0,
  "metadata": {
    "colab": {
      "name": "Untitled0.ipynb",
      "provenance": [],
      "include_colab_link": true
    },
    "kernelspec": {
      "name": "python3",
      "display_name": "Python 3"
    }
  },
  "cells": [
    {
      "cell_type": "markdown",
      "metadata": {
        "id": "view-in-github",
        "colab_type": "text"
      },
      "source": [
        "<a href=\"https://colab.research.google.com/github/DmitriiDenisov/research-DT-Logreg/blob/master/Logreg_exploration.ipynb\" target=\"_parent\"><img src=\"https://colab.research.google.com/assets/colab-badge.svg\" alt=\"Open In Colab\"/></a>"
      ]
    },
    {
      "cell_type": "code",
      "metadata": {
        "id": "wtjoyS1Cjjxf",
        "colab_type": "code",
        "colab": {
          "base_uri": "https://localhost:8080/",
          "height": 269
        },
        "outputId": "82ba7fd2-4525-4520-ad99-7de574bdfc7e"
      },
      "source": [
        "import numpy as np\n",
        "from sklearn.linear_model import LogisticRegression\n",
        "from matplotlib import pyplot as plt\n",
        "\n",
        "np.random.seed(7)\n",
        "n = 50\n",
        "X_0 = np.random.randn(n,2)\n",
        "X_1 = np.array([[5,5], [-2., -2.]])\n",
        "y = np.array(n*[0]+2*[1])\n",
        "X = np.vstack([X_0, X_1])\n",
        "\n",
        "lr = LogisticRegression(class_weight=None, penalty='none') # C=1\n",
        "lr.fit(X, y)\n",
        "b = lr.intercept_[0] # -1.9\n",
        "m0 = lr.coef_[0][0]\n",
        "m1 = lr.coef_[0][1]\n",
        "\n",
        "x_vals = np.linspace(X.min(),X.max(),100)\n",
        "y_vals = -(m0/m1)*x_vals - b/m1\n",
        "\n",
        "\n",
        "plt.scatter(X[y==0][:,0], X[y==0][:,1])\n",
        "plt.scatter(X[y==1][:,0], X[y==1][:,1])\n",
        "plt.plot(x_vals, y_vals)\n",
        "plt.grid(True)\n",
        "plt.show()"
      ],
      "execution_count": 3,
      "outputs": [
        {
          "output_type": "display_data",
          "data": {
            "image/png": "[encoded data removed]",
            "text/plain": [
              "<Figure size 432x288 with 1 Axes>"
            ]
          },
          "metadata": {
            "tags": [],
            "needs_background": "light"
          }
        }
      ]
    },
    {
      "cell_type": "code",
      "metadata": {
        "id": "dG1DdA1KSR-R",
        "colab_type": "code",
        "colab": {
          "base_uri": "https://localhost:8080/",
          "height": 68
        },
        "outputId": "388198ec-f07e-44e5-accd-5d698157d403"
      },
      "source": [
        "# 1. Получить, что log_loss = кастомная формула\n",
        "from sklearn.metrics import log_loss\n",
        "import numpy as np\n",
        "\n",
        "y_true = np.array([0, 0, 1, 1])\n",
        "# y_pred = [[.9, .1], [.8, .2], [.3, .7], [.01, .99]]\n",
        "y_pred = np.array([0.1, 0.2, 0.7, 0.99])\n",
        "ans = log_loss(y_true, y_pred)\n",
        "print(ans)\n",
        "ans_2 = np.mean(-(y_true * np.log(y_pred) + (1 - y_true) * np.log(1 - y_pred)))\n",
        "print(ans_2)\n",
        "assert ans == ans_2\n",
        "\n",
        "# 2. Получить, что y_pred = sigmoid(w^T * X)\n",
        "y_pred = lr.predict_proba(X)[:, 1]\n",
        "y_pred_form = 1 / (1 + np.exp( - (np.dot(X, lr.coef_.T) + lr.intercept_).flatten() ))\n",
        "assert (y_pred == y_pred_form).all()\n",
        "\n",
        "# 3. Собрать всё вместе\n",
        "print(log_loss(y, y_pred_form))\n",
        "assert  log_loss(y, y_pred_form) == np.mean(-(y * np.log(y_pred_form) + (1 - y) * np.log(1 - y_pred_form)))"
      ],
      "execution_count": null,
      "outputs": [
        {
          "output_type": "stream",
          "text": [
            "0.1738073366910675\n",
            "0.1738073366910675\n",
            "0.1403187412320377\n"
          ],
          "name": "stdout"
        }
      ]
    },
    {
      "cell_type": "code",
      "metadata": {
        "id": "PPRGD4qwiqv1",
        "colab_type": "code",
        "colab": {
          "base_uri": "https://localhost:8080/",
          "height": 34
        },
        "outputId": "c47b7512-d11b-426b-dea5-7c2c60d039f0"
      },
      "source": [
        "y_pred_form = 1 / (1 + np.exp( - (np.dot(X, lr.coef_.T) + lr.intercept_).flatten() ))\n",
        "log_loss(y, y_pred_form) == np.mean(-(y * np.log(y_pred_form) + (1 - y) * np.log(1 - y_pred_form)))"
      ],
      "execution_count": null,
      "outputs": [
        {
          "output_type": "execute_result",
          "data": {
            "text/plain": [
              "True"
            ]
          },
          "metadata": {
            "tags": []
          },
          "execution_count": 15
        }
      ]
    },
    {
      "cell_type": "code",
      "metadata": {
        "id": "WkbM4kt6hG3s",
        "colab_type": "code",
        "colab": {
          "base_uri": "https://localhost:8080/",
          "height": 34
        },
        "outputId": "bdea6585-d5c6-4b00-f889-37882f6b175d"
      },
      "source": [
        "y_pred_form = 1 / (1 + np.exp( - (np.dot(X, lr.coef_.T) + lr.intercept_).flatten() ))\n",
        "np.mean(-(y * np.log(y_pred_form) + (1 - y) * np.log(1 - y_pred_form)))"
      ],
      "execution_count": null,
      "outputs": [
        {
          "output_type": "execute_result",
          "data": {
            "text/plain": [
              "0.1403187412320377"
            ]
          },
          "metadata": {
            "tags": []
          },
          "execution_count": 18
        }
      ]
    },
    {
      "cell_type": "code",
      "metadata": {
        "id": "L1Q0JUjvh-AU",
        "colab_type": "code",
        "colab": {
          "base_uri": "https://localhost:8080/",
          "height": 34
        },
        "outputId": "b9de5796-65ed-41f5-f781-6ee1e4ab5be3"
      },
      "source": [
        "y_pred_form = 1 / (1 + np.exp( - (np.dot(X, lr.coef_.T) - 1.9).flatten() ))\n",
        "np.mean(-(y * np.log(y_pred_form) + (1 - y) * np.log(1 - y_pred_form)))"
      ],
      "execution_count": null,
      "outputs": [
        {
          "output_type": "execute_result",
          "data": {
            "text/plain": [
              "0.21408619577894694"
            ]
          },
          "metadata": {
            "tags": []
          },
          "execution_count": 20
        }
      ]
    },
    {
      "cell_type": "code",
      "metadata": {
        "id": "l3PV_jaEiFeG",
        "colab_type": "code",
        "colab": {
          "base_uri": "https://localhost:8080/",
          "height": 204
        },
        "outputId": "6c30723f-e735-4c3e-8ba0-aab18205f668"
      },
      "source": [
        "-(y * np.log(y_pred_form) + (1 - y) * np.log(1 - y_pred_form))"
      ],
      "execution_count": null,
      "outputs": [
        {
          "output_type": "execute_result",
          "data": {
            "text/plain": [
              "array([0.18057501, 0.16228948, 0.11415265, 0.07391763, 0.22113868,\n",
              "       0.11182264, 0.14431517, 0.0775079 , 0.1673412 , 0.08630953,\n",
              "       0.22144303, 0.25574176, 0.08166539, 0.05461992, 0.15662576,\n",
              "       0.16887838, 0.11092389, 0.06440333, 0.17253019, 0.19290033,\n",
              "       0.16155335, 0.12308804, 0.04636944, 0.32932191, 0.12378781,\n",
              "       0.2425999 , 0.15634473, 0.12069793, 0.11581002, 0.20660491,\n",
              "       0.06349929, 0.24520481, 0.0917776 , 0.07012607, 0.08437666,\n",
              "       0.18349481, 0.23599963, 0.18826483, 0.19589062, 0.06970712,\n",
              "       0.22384994, 0.11135169, 0.1073293 , 0.20364654, 0.25603717,\n",
              "       0.20246759, 0.13526959, 0.11514336, 0.3246722 , 0.10790944,\n",
              "       0.22967848, 3.24150554])"
            ]
          },
          "metadata": {
            "tags": []
          },
          "execution_count": 23
        }
      ]
    },
    {
      "cell_type": "code",
      "metadata": {
        "id": "X7GhgZQBjpg6",
        "colab_type": "code",
        "colab": {
          "base_uri": "https://localhost:8080/",
          "height": 85
        },
        "outputId": "36a4701e-6ff1-4ceb-e99a-e119eccd0c1f"
      },
      "source": [
        "y_new = y.copy()\n",
        "y_new[y_new == 0] = -1\n",
        "y_new"
      ],
      "execution_count": null,
      "outputs": [
        {
          "output_type": "execute_result",
          "data": {
            "text/plain": [
              "array([-1, -1, -1, -1, -1, -1, -1, -1, -1, -1, -1, -1, -1, -1, -1, -1, -1,\n",
              "       -1, -1, -1, -1, -1, -1, -1, -1, -1, -1, -1, -1, -1, -1, -1, -1, -1,\n",
              "       -1, -1, -1, -1, -1, -1, -1, -1, -1, -1, -1, -1, -1, -1, -1, -1,  1,\n",
              "        1])"
            ]
          },
          "metadata": {
            "tags": []
          },
          "execution_count": 27
        }
      ]
    },
    {
      "cell_type": "code",
      "metadata": {
        "id": "U-KeN6edjsj9",
        "colab_type": "code",
        "colab": {
          "base_uri": "https://localhost:8080/",
          "height": 204
        },
        "outputId": "c056e20b-1b1f-4f3a-c031-dec4e4ab5112"
      },
      "source": [
        "np.log(1 + np.exp(-y_new * (np.dot(X, lr.coef_.T) + lr.intercept_).flatten() ))"
      ],
      "execution_count": null,
      "outputs": [
        {
          "output_type": "execute_result",
          "data": {
            "text/plain": [
              "array([0.03753056, 0.0334825 , 0.02309859, 0.01471633, 0.04671819,\n",
              "       0.02260587, 0.02955923, 0.01545349, 0.0345951 , 0.01726956,\n",
              "       0.04678821, 0.05478586, 0.01630974, 0.01079001, 0.03224033,\n",
              "       0.03493452, 0.02241605, 0.01277301, 0.03574249, 0.04029179,\n",
              "       0.03332074, 0.02499656, 0.00912971, 0.07266406, 0.02514576,\n",
              "       0.05169662, 0.03217883, 0.02448757, 0.02344963, 0.04339313,\n",
              "       0.01258912, 0.05230649, 0.0184042 , 0.01394013, 0.01686966,\n",
              "       0.03818229, 0.05015679, 0.0392502 , 0.04096568, 0.01385451,\n",
              "       0.04734261, 0.02250639, 0.02165822, 0.04272087, 0.05485566,\n",
              "       0.04245339, 0.02760563, 0.02330837, 0.07150465, 0.02178038,\n",
              "       0.84849379, 4.8532615 ])"
            ]
          },
          "metadata": {
            "tags": []
          },
          "execution_count": 33
        }
      ]
    },
    {
      "cell_type": "code",
      "metadata": {
        "id": "jYPIqJellVpO",
        "colab_type": "code",
        "colab": {
          "base_uri": "https://localhost:8080/",
          "height": 204
        },
        "outputId": "4f7fd9b2-8266-4d3f-aa85-11b723b35cfe"
      },
      "source": [
        "np.log(1 + np.exp(-y_new * (np.dot(X, lr.coef_.T) - 1.9).flatten() ))"
      ],
      "execution_count": null,
      "outputs": [
        {
          "output_type": "execute_result",
          "data": {
            "text/plain": [
              "array([0.18057501, 0.16228948, 0.11415265, 0.07391763, 0.22113868,\n",
              "       0.11182264, 0.14431517, 0.0775079 , 0.1673412 , 0.08630953,\n",
              "       0.22144303, 0.25574176, 0.08166539, 0.05461992, 0.15662576,\n",
              "       0.16887838, 0.11092389, 0.06440333, 0.17253019, 0.19290033,\n",
              "       0.16155335, 0.12308804, 0.04636944, 0.32932191, 0.12378781,\n",
              "       0.2425999 , 0.15634473, 0.12069793, 0.11581002, 0.20660491,\n",
              "       0.06349929, 0.24520481, 0.0917776 , 0.07012607, 0.08437666,\n",
              "       0.18349481, 0.23599963, 0.18826483, 0.19589062, 0.06970712,\n",
              "       0.22384994, 0.11135169, 0.1073293 , 0.20364654, 0.25603717,\n",
              "       0.20246759, 0.13526959, 0.11514336, 0.3246722 , 0.10790944,\n",
              "       0.22967848, 3.24150554])"
            ]
          },
          "metadata": {
            "tags": []
          },
          "execution_count": 32
        }
      ]
    },
    {
      "cell_type": "code",
      "metadata": {
        "id": "wWhsw4t8lcrR",
        "colab_type": "code",
        "colab": {}
      },
      "source": [
        ""
      ],
      "execution_count": null,
      "outputs": []
    },
    {
      "cell_type": "code",
      "metadata": {
        "id": "0x0WgPBylvr1",
        "colab_type": "code",
        "colab": {}
      },
      "source": [
        ""
      ],
      "execution_count": null,
      "outputs": []
    }
  ]
}