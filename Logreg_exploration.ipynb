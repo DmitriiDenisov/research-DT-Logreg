{
  "nbformat": 4,
  "nbformat_minor": 0,
  "metadata": {
    "colab": {
      "name": "Untitled0.ipynb",
      "provenance": [],
      "authorship_tag": "ABX9TyMGoaxCQZSWKAWYHXz64nkj",
      "include_colab_link": true
    },
    "kernelspec": {
      "name": "python3",
      "display_name": "Python 3"
    }
  },
  "cells": [
    {
      "cell_type": "markdown",
      "metadata": {
        "id": "view-in-github",
        "colab_type": "text"
      },
      "source": [
        "<a href=\"https://colab.research.google.com/github/DmitriiDenisov/research-DT-Logreg/blob/master/Logreg_exploration.ipynb\" target=\"_parent\"><img src=\"https://colab.research.google.com/assets/colab-badge.svg\" alt=\"Open In Colab\"/></a>"
      ]
    },
    {
      "cell_type": "code",
      "metadata": {
        "id": "wtjoyS1Cjjxf",
        "colab_type": "code",
        "colab": {
          "base_uri": "https://localhost:8080/",
          "height": 265
        },
        "outputId": "ba190eb9-9d3a-47c3-e4ac-7c37b213889a"
      },
      "source": [
        "import numpy as np\n",
        "from sklearn.linear_model import LogisticRegression\n",
        "from matplotlib import pyplot as plt\n",
        "\n",
        "np.random.seed(7)\n",
        "n = 50\n",
        "X_0 = np.random.randn(n,2)\n",
        "X_1 = np.array([[5,5], [-2., -2.]])\n",
        "y = np.array(n*[0]+2*[1])\n",
        "X = np.vstack([X_0, X_1])\n",
        "\n",
        "lr = LogisticRegression(class_weight=None) # C=1\n",
        "lr.fit(X, y)\n",
        "b = lr.intercept_[0]\n",
        "m0 = lr.coef_[0][0]\n",
        "m1 = lr.coef_[0][1]\n",
        "\n",
        "x_vals = np.linspace(X.min(),X.max(),100)\n",
        "y_vals = -(m0/m1)*x_vals - b/m1\n",
        "\n",
        "plt.scatter(X[y==0][:,0], X[y==0][:,1])\n",
        "plt.scatter(X[y==1][:,0], X[y==1][:,1])\n",
        "plt.plot(x_vals, y_vals)\n",
        "plt.grid(True)\n",
        "plt.show()"
      ],
      "execution_count": 10,
      "outputs": [
        {
          "output_type": "display_data",
          "data": {
            "image/png": "[encoded data removed]",
            "text/plain": [
              "<Figure size 432x288 with 1 Axes>"
            ]
          },
          "metadata": {
            "tags": [],
            "needs_background": "light"
          }
        }
      ]
    },
    {
      "cell_type": "code",
      "metadata": {
        "id": "Ua_44vNJjrnn",
        "colab_type": "code",
        "colab": {}
      },
      "source": [
        "from sklearn.metrics import log_loss"
      ],
      "execution_count": 11,
      "outputs": []
    },
    {
      "cell_type": "code",
      "metadata": {
        "id": "9Ob08btdnhD9",
        "colab_type": "code",
        "colab": {
          "base_uri": "https://localhost:8080/",
          "height": 34
        },
        "outputId": "3a881b08-40dd-49bf-8863-98c7dfc3e69f"
      },
      "source": [
        "y_pred = lr.predict(X)\n",
        "log_loss(y, y_pred)"
      ],
      "execution_count": 21,
      "outputs": [
        {
          "output_type": "execute_result",
          "data": {
            "text/plain": [
              "1.3284144767273351"
            ]
          },
          "metadata": {
            "tags": []
          },
          "execution_count": 21
        }
      ]
    },
    {
      "cell_type": "code",
      "metadata": {
        "id": "JhpqHvoNodZV",
        "colab_type": "code",
        "colab": {}
      },
      "source": [
        "import math\n",
        "\n",
        "def sigmoid(x):\n",
        "  return 1 / (1 + np.exp(-x))"
      ],
      "execution_count": 34,
      "outputs": []
    },
    {
      "cell_type": "code",
      "metadata": {
        "id": "nE5TnKTfoeiH",
        "colab_type": "code",
        "colab": {
          "base_uri": "https://localhost:8080/",
          "height": 34
        },
        "outputId": "f9437d79-388c-4cc0-91c8-42a4791330d1"
      },
      "source": [
        "y_pred = sigmoid(np.dot(X, lr.coef_.T) + lr.intercept_)\n",
        "log_loss(y, y_pred)"
      ],
      "execution_count": 37,
      "outputs": [
        {
          "output_type": "execute_result",
          "data": {
            "text/plain": [
              "0.1403187412320377"
            ]
          },
          "metadata": {
            "tags": []
          },
          "execution_count": 37
        }
      ]
    },
    {
      "cell_type": "code",
      "metadata": {
        "id": "AGC2sTx8pAeg",
        "colab_type": "code",
        "colab": {}
      },
      "source": [
        ""
      ],
      "execution_count": null,
      "outputs": []
    }
  ]
}