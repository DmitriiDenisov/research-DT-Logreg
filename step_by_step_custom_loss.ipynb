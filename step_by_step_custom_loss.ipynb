{
  "nbformat": 4,
  "nbformat_minor": 0,
  "metadata": {
    "colab": {
      "name": "Example.ipynb",
      "provenance": [],
      "collapsed_sections": [],
      "include_colab_link": true
    },
    "kernelspec": {
      "name": "python3",
      "display_name": "Python 3"
    }
  },
  "cells": [
    {
      "cell_type": "markdown",
      "metadata": {
        "id": "view-in-github",
        "colab_type": "text"
      },
      "source": [
        "<a href=\"https://colab.research.google.com/github/DmitriiDenisov/research-DT-Logreg/blob/master/step_by_step_custom_loss.ipynb\" target=\"_parent\"><img src=\"https://colab.research.google.com/assets/colab-badge.svg\" alt=\"Open In Colab\"/></a>"
      ]
    },
    {
      "cell_type": "markdown",
      "metadata": {
        "id": "Ej1n48pPDThV"
      },
      "source": [
        "##Step-by-step Example"
      ]
    },
    {
      "cell_type": "code",
      "metadata": {
        "id": "XPsTXdkXCu69"
      },
      "source": [
        "import numpy as np\n",
        "import matplotlib.pyplot as plt\n",
        "from scipy.optimize import fmin_slsqp\n",
        "from scipy.optimize import minimize"
      ],
      "execution_count": 1,
      "outputs": []
    },
    {
      "cell_type": "code",
      "metadata": {
        "id": "ut_qdRJJ3jKS"
      },
      "source": [
        "def split(x, y, W): #y must be +/-1\n",
        "  result = fmin_slsqp(func, W, bounds=[(-1000, 1000)]*len(W), args=(x, y), disp=False, full_output=True)\n",
        "  Wopt, fW, its, imode, smode = result\n",
        "  return Wopt\n",
        "\n",
        "from scipy.stats import entropy\n",
        "def entropy1(labels):\n",
        "  value,counts = np.unique(labels, return_counts=True)\n",
        "  return entropy(counts)"
      ],
      "execution_count": 2,
      "outputs": []
    },
    {
      "cell_type": "code",
      "metadata": {
        "id": "OPuT7HL8DCYQ"
      },
      "source": [
        ""
      ],
      "execution_count": 3,
      "outputs": []
    },
    {
      "cell_type": "code",
      "metadata": {
        "id": "tfzWjnTs78ge",
        "outputId": "55161e0c-bcb2-430e-8fd8-e618585a24dd",
        "colab": {
          "base_uri": "https://localhost:8080/",
          "height": 281
        }
      },
      "source": [
        "from sklearn.datasets import make_circles, make_moons, make_classification\n",
        "np.random.seed(7)\n",
        "\n",
        "X, y = make_circles(n_samples=200, noise=0.3, factor=0.2, )\n",
        "transformation = [[0.6, -0.6], [-0.1, 0.6]]\n",
        "X = np.dot(X, transformation)\n",
        "\n",
        "plt.scatter(X[y==0][:,0], X[y==0][:,1])\n",
        "plt.scatter(X[y==1][:,0], X[y==1][:,1])\n",
        "plt.title('The original data')\n",
        "plt.show()"
      ],
      "execution_count": 42,
      "outputs": [
        {
          "output_type": "display_data",
          "data": {
            "image/png": "[encoded data removed]",
            "text/plain": [
              "<Figure size 432x288 with 1 Axes>"
            ]
          },
          "metadata": {
            "tags": [],
            "needs_background": "light"
          }
        }
      ]
    },
    {
      "cell_type": "code",
      "metadata": {
        "id": "luOG4XPle76U"
      },
      "source": [
        "class RTTree():\n",
        "  def __init__(self):\n",
        "    # Structure of JSON:\n",
        "    # {'init_ent': float, 'new_ent': float, 'Wopt': [...], 'left': {...}, 'right': {...}}\n",
        "    tree_struct = dict()\n",
        "\n",
        "  @staticmethod\n",
        "  def func(w, x, y):\n",
        "    return np.mean(1 / (1 + np.exp(2.5 * y * np.dot(x, w))))\n",
        "\n",
        "  @staticmethod\n",
        "  def split(x, y, W): #y must be +/-1\n",
        "    result = fmin_slsqp(func, W, bounds=[(-1000, 1000)]*len(W), args=(x, y), disp=False, full_output=True)\n",
        "    Wopt, fW, its, imode, smode = result\n",
        "    return Wopt\n",
        "  \n",
        "  def calculate_entropy(y, y_0, y_1):\n",
        "    ent_left = entropy1(y_0)\n",
        "    ent_right = entropy1(y_1)\n",
        "    new_ent = (len(y_1)*ent_1 + len(y_0)*ent_0)/(len(y_1)+len(y_0))\n",
        "    init_ent = entropy1(y)\n",
        "    return init_ent, ent_0, ent_1, new_ent\n",
        "\n",
        "  def fit_node(X, y, node_struct):\n",
        "    # optimizator\n",
        "    W_init = np.array([-0.1, -0.2, -0.1]) # think of optimal initialization\n",
        "    Wopt = split(x, y, W)\n",
        "    Wopt = np.array(Wopt)\n",
        "\n",
        "    # predict\n",
        "    y_pred = np.dot(X_train, Wopt) > 0\n",
        "    y_pred[y_pred == 0] = -1 # convert 0 to -1\n",
        "\n",
        "    #Split the data according to the predictions\n",
        "    x_left = X_train[y_pred==-1]\n",
        "    y_left = X_train[y_pred==-1]\n",
        "    x_right = X_train[y_pred==1]\n",
        "    y_right = X_train[y_pred==1]\n",
        "    # b = Wopt[2]\n",
        "    # m0 = Wopt[0]\n",
        "    # m1 = Wopt[1]\n",
        "\n",
        "    # entropy \n",
        "    init_ent, ent_left, ent_right, new_ent = calculate_entropy(y, y_left, y_right)\n",
        "\n",
        "    # save to json\n",
        "    node_struct['Wopt'] = Wopt\n",
        "    if new_ent < init_ent:\n",
        "      # tree_struct['init_ent'] = init_ent\n",
        "      node_struct['new_ent'] = new_ent\n",
        "      node_struct['left'] = dict()\n",
        "      node_struct['left']['init_ent'] = ent_left\n",
        "      node_struct['right'] = dict()\n",
        "      node_struct['right']['init_ent'] = ent_right\n",
        "\n",
        "      # recursion left\n",
        "      res_left = fit_node(x_left, y_left, node_struct['left'])\n",
        "      \n",
        "      # recursion right\n",
        "      res_right = fit_node(x_right, y_right, node_struct['right'])\n",
        "    else:\n",
        "      return False\n",
        "    return True\n",
        "\n",
        "\n",
        "  def fit(self, X_train: np.array, y_train: np.array):\n",
        "    # prepare data\n",
        "    X_train = np.c_[ X_train, np.ones(X_train.shape[0]) ] # add column of ones for bias\n",
        "    y_train[y_train == 0] = -1\n",
        "    assert (np.unique(y) == np.array([-1, 1])).all()\n",
        "    fit_node(X_train, y_train, tree_struct)\n",
        "\n",
        "  def predict(self, X_test: np.array):\n",
        "    pass"
      ],
      "execution_count": 43,
      "outputs": []
    },
    {
      "cell_type": "code",
      "metadata": {
        "id": "1vGxTO-DIu27",
        "outputId": "05567d9e-cc7a-4a76-d603-913a0eece997",
        "colab": {
          "base_uri": "https://localhost:8080/",
          "height": 315
        }
      },
      "source": [
        "#Train the classifier and draw the separating line\n",
        "x = np.c_[ X, np.ones(X.shape[0]) ] # add column of ones for bias\n",
        "y = 3**y-2\n",
        "W = np.array([-0.1, -0.2, -0.1])\n",
        "\n",
        "Wopt = split(x, y, W)\n",
        "b = Wopt[2]\n",
        "m0 = Wopt[0]\n",
        "m1 = Wopt[1]\n",
        "\n",
        "#Plot\n",
        "x_vals = np.linspace(x.min(),x.max(),100)\n",
        "y_vals = -(m0/m1)*x_vals - b/m1\n",
        "\n",
        "plt.scatter(x[y==-1][:,0], x[y==-1][:,1])\n",
        "plt.scatter(x[y==1][:,0], x[y==1][:,1])\n",
        "plt.plot(x_vals, y_vals)\n",
        "\n",
        "plt.title('Separating line with custom cost')\n",
        "plt.grid(True)\n",
        "plt.show()"
      ],
      "execution_count": 44,
      "outputs": [
        {
          "output_type": "stream",
          "text": [
            "/usr/local/lib/python3.6/dist-packages/ipykernel_launcher.py:2: RuntimeWarning: overflow encountered in exp\n",
            "  \n"
          ],
          "name": "stderr"
        },
        {
          "output_type": "display_data",
          "data": {
            "image/png": "[encoded data removed]",
            "text/plain": [
              "<Figure size 432x288 with 1 Axes>"
            ]
          },
          "metadata": {
            "tags": [],
            "needs_background": "light"
          }
        }
      ]
    },
    {
      "cell_type": "markdown",
      "metadata": {
        "id": "C9Su8qaC2f7d"
      },
      "source": [
        "Note that the data above the separating line is *pure* so we don't need to worry about it any more."
      ]
    },
    {
      "cell_type": "code",
      "metadata": {
        "id": "mv7dH7oZL31N",
        "outputId": "0cd7c75f-0f27-4a60-e0b7-6eb062833d90",
        "colab": {
          "base_uri": "https://localhost:8080/",
          "height": 102
        }
      },
      "source": [
        "#Make predictions\n",
        "y_pred = np.dot(x, Wopt)>0\n",
        "y_pred = 3**y_pred-2 #convert to +/-1\n",
        "\n",
        "#Split the data according to the predictions\n",
        "x_0 = x[y_pred==-1]\n",
        "y_0 = y[y_pred==-1]\n",
        "x_1 = x[y_pred==1]\n",
        "y_1 = y[y_pred==1]\n",
        "\n",
        "#Measure entropy in each subset\n",
        "ent_0 = entropy1(y_0)\n",
        "ent_1 = entropy1(y_1)\n",
        "mean_ent = (len(y_1)*ent_1 + len(y_0)*ent_0)/(len(y_1)+len(y_0))\n",
        "init_ent = entropy1(y)\n",
        "print('init ent:', round(init_ent, 4))\n",
        "print('ent_0:', ent_0)\n",
        "print('ent_1:', round(ent_1,4))\n",
        "print('mean ent:', round(mean_ent,4), '\\n')"
      ],
      "execution_count": 45,
      "outputs": [
        {
          "output_type": "stream",
          "text": [
            "init ent: 0.6931\n",
            "ent_0: 0.37677016125643675\n",
            "ent_1: 0.6755\n",
            "mean ent: 0.6157 \n",
            "\n"
          ],
          "name": "stdout"
        }
      ]
    },
    {
      "cell_type": "markdown",
      "metadata": {
        "id": "KXMNBilA4uPY"
      },
      "source": [
        "It can be seen that one of the subsets has entropy 0 so we don't need to worry about. This is the same as we saw in the graph. We have to only deal with the subset *y_1*.\n",
        "\n",
        "Also note that the mean entropy is lower than the original entropy which indicates that the separation was effective."
      ]
    },
    {
      "cell_type": "code",
      "metadata": {
        "id": "YjdiNr003Ync",
        "outputId": "313c2d6c-cc88-48e3-97bd-9896cfa580bf",
        "colab": {
          "base_uri": "https://localhost:8080/",
          "height": 281
        }
      },
      "source": [
        "plt.scatter(x_1[y_1==-1][:,0], x_1[y_1==-1][:,1])\n",
        "plt.scatter(x_1[y_1==1][:,0], x_1[y_1==1][:,1])\n",
        "plt.title('subset y_1')\n",
        "plt.show()"
      ],
      "execution_count": 46,
      "outputs": [
        {
          "output_type": "display_data",
          "data": {
            "image/png": "[encoded data removed]",
            "text/plain": [
              "<Figure size 432x288 with 1 Axes>"
            ]
          },
          "metadata": {
            "tags": [],
            "needs_background": "light"
          }
        }
      ]
    },
    {
      "cell_type": "code",
      "metadata": {
        "id": "RQ4lZbYA8lQ9",
        "outputId": "4e6288c3-f9a1-4284-dbe2-380a4390d484",
        "colab": {
          "base_uri": "https://localhost:8080/",
          "height": 315
        }
      },
      "source": [
        "#Train the classifier on (x_1, y_1)\n",
        "x = x_1\n",
        "y = y_1\n",
        "\n",
        "Wopt = split(x, y, W)\n",
        "b = Wopt[2]\n",
        "m0 = Wopt[0]\n",
        "m1 = Wopt[1]\n",
        "\n",
        "#Plot\n",
        "x_vals = np.linspace(x.min(),x.max(),100)\n",
        "y_vals = -(m0/m1)*x_vals - b/m1\n",
        "\n",
        "plt.scatter(x[y==-1][:,0], x[y==-1][:,1])\n",
        "plt.scatter(x[y==1][:,0], x[y==1][:,1])\n",
        "plt.plot(x_vals, y_vals)\n",
        "\n",
        "plt.title('Separating line on y_1')\n",
        "plt.grid(True)\n",
        "plt.show()"
      ],
      "execution_count": 47,
      "outputs": [
        {
          "output_type": "stream",
          "text": [
            "/usr/local/lib/python3.6/dist-packages/ipykernel_launcher.py:2: RuntimeWarning: overflow encountered in exp\n",
            "  \n"
          ],
          "name": "stderr"
        },
        {
          "output_type": "display_data",
          "data": {
            "image/png": "[encoded data removed]",
            "text/plain": [
              "<Figure size 432x288 with 1 Axes>"
            ]
          },
          "metadata": {
            "tags": [],
            "needs_background": "light"
          }
        }
      ]
    },
    {
      "cell_type": "code",
      "metadata": {
        "id": "PoG-JImtO9aj",
        "outputId": "920fa4e0-eb1b-4850-85c4-ffba85266a7b",
        "colab": {
          "base_uri": "https://localhost:8080/",
          "height": 102
        }
      },
      "source": [
        "#Make predictions\n",
        "y_pred = np.dot(x, Wopt)>0\n",
        "y_pred = 3**y_pred-2 #convert to +/-1\n",
        "\n",
        "#Split the data according to the predictions\n",
        "x_0 = x[y_pred==-1]\n",
        "y_0 = y[y_pred==-1]\n",
        "x_1 = x[y_pred==1]\n",
        "y_1 = y[y_pred==1]\n",
        "\n",
        "#Measure entropy in each subset\n",
        "ent_0 = entropy1(y_0)\n",
        "ent_1 = entropy1(y_1)\n",
        "mean_ent = (len(y_1)*ent_1 + len(y_0)*ent_0)/(len(y_1)+len(y_0))\n",
        "init_ent = entropy1(y)\n",
        "print('init ent:', round(init_ent, 4))\n",
        "print('ent_0:', ent_0)\n",
        "print('ent_1:', round(ent_1,4))\n",
        "print('mean ent:', round(mean_ent,4), '\\n')"
      ],
      "execution_count": 48,
      "outputs": [
        {
          "output_type": "stream",
          "text": [
            "init ent: 0.6755\n",
            "ent_0: 0.3829604307675954\n",
            "ent_1: 0.569\n",
            "mean ent: 0.5237 \n",
            "\n"
          ],
          "name": "stdout"
        }
      ]
    },
    {
      "cell_type": "markdown",
      "metadata": {
        "id": "7SLbFuHe_drt"
      },
      "source": [
        "Note that the entropy on y_1 was 0.6689 and it is now reduced to 0.4720. It means that the separating line was effective.\n",
        "\n",
        "Next, the subsets must continue to split recursively until some stopping criterion (e.g. entropy<0.1) is reached.\n",
        "\n",
        "We also need to store *Wopt* from each split to be used for predictions on the test set."
      ]
    }
  ]
}