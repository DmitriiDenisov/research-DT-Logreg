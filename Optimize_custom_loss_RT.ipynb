{
  "nbformat": 4,
  "nbformat_minor": 0,
  "metadata": {
    "colab": {
      "name": "Optimize_custom_loss_RT",
      "provenance": [],
      "include_colab_link": true
    },
    "kernelspec": {
      "name": "python3",
      "display_name": "Python 3"
    }
  },
  "cells": [
    {
      "cell_type": "markdown",
      "metadata": {
        "id": "view-in-github",
        "colab_type": "text"
      },
      "source": [
        "<a href=\"https://colab.research.google.com/github/DmitriiDenisov/research-DT-Logreg/blob/master/Optimize_custom_loss_RT.ipynb\" target=\"_parent\"><img src=\"https://colab.research.google.com/assets/colab-badge.svg\" alt=\"Open In Colab\"/></a>"
      ]
    },
    {
      "cell_type": "code",
      "metadata": {
        "id": "YF9Yl5dmKAQh"
      },
      "source": [
        "import numpy as np\n",
        "from scipy.optimize import fmin_slsqp\n",
        "from scipy.optimize import minimize\n",
        "import matplotlib.pyplot as plt"
      ],
      "execution_count": 1,
      "outputs": []
    },
    {
      "cell_type": "markdown",
      "metadata": {
        "id": "Gu5OoOBEjQ3x"
      },
      "source": [
        "Optimization of function wrt vector.\n",
        "Example of how it should work\n",
        "Source: https://stackoverflow.com/questions/41145643/find-optimal-vector-that-minimizes-function"
      ]
    },
    {
      "cell_type": "code",
      "metadata": {
        "id": "Q6-lnyOUjQXy",
        "outputId": "4fee045e-e5f9-4e06-d492-d8af16117f06",
        "colab": {
          "base_uri": "https://localhost:8080/",
          "height": 34
        }
      },
      "source": [
        "def w_rss1(w, x0, x1):\n",
        "    predictions = np.dot(x0, w)\n",
        "    errors = x1 - predictions\n",
        "    rss = (errors**2).sum()\n",
        "    return rss\n",
        "\n",
        "X0 = np.array([[3,4,5,3],\n",
        "               [1,2,2,4],\n",
        "               [6,5,3,7],\n",
        "               [1,0,5,2]])  \n",
        "\n",
        "X1 = np.array([4, 2, 4, 2]) \n",
        "\n",
        "# You can change start point, anyway it will converge to [-0.01036277  0.48704642  0.37305673  0.07253886]\n",
        "W = np.array([23, -1, 12, -132.32])\n",
        "\n",
        "result = fmin_slsqp(w_rss1, W, bounds=[(-100, 100)]*len(W), args=(X0, X1), disp=False, full_output=True)\n",
        "Wopt, fW, its, imode, smode = result\n",
        "\n",
        "if imode != 0:\n",
        "    print(\"Optimization failed: \" + smode)\n",
        "else:\n",
        "    print(Wopt)"
      ],
      "execution_count": 2,
      "outputs": [
        {
          "output_type": "stream",
          "text": [
            "[-0.01036295  0.48704645  0.37305658  0.0725389 ]\n"
          ],
          "name": "stdout"
        }
      ]
    },
    {
      "cell_type": "markdown",
      "metadata": {
        "id": "a0LtT3edjipq"
      },
      "source": [
        "Now how it works for our case:"
      ]
    },
    {
      "cell_type": "code",
      "metadata": {
        "id": "eVD3DZjEiwZL"
      },
      "source": [
        "def func(w, x, y):\n",
        "  return np.mean(1 / (1 + np.exp(2.5 * y * np.dot(x, w))))"
      ],
      "execution_count": 3,
      "outputs": []
    },
    {
      "cell_type": "code",
      "metadata": {
        "id": "qjzf906cW4CI"
      },
      "source": [
        ""
      ],
      "execution_count": 13,
      "outputs": []
    },
    {
      "cell_type": "code",
      "metadata": {
        "id": "PJwvz2XmO-8o",
        "outputId": "2a374685-687b-45b3-c484-0c1caf856ae1",
        "colab": {
          "base_uri": "https://localhost:8080/",
          "height": 34
        }
      },
      "source": [
        "W = np.array([1, 1])\n",
        "x = np.random.randn(10,2)\n",
        "# standardise data\n",
        "x = (x - np.mean(x, axis=0)) / np.std(x, axis=0)\n",
        "\n",
        "y = np.array([-1,-1,-1,-1,-1,1,1,1,1,1])\n",
        "\n",
        "\n",
        "result = fmin_slsqp(func, W, bounds=[(-1000, 1000)]*len(W), args=(x, y), disp=False, full_output=True)\n",
        "Wopt, fW, its, imode, smode = result\n",
        "\n",
        "if imode != 0:\n",
        "    print(\"Optimization failed: \" + smode)\n",
        "else:\n",
        "    print(Wopt)"
      ],
      "execution_count": 18,
      "outputs": [
        {
          "output_type": "stream",
          "text": [
            "[-12.62112164  14.90294619]\n"
          ],
          "name": "stdout"
        }
      ]
    },
    {
      "cell_type": "markdown",
      "metadata": {
        "id": "h6c3ykAMk-wA"
      },
      "source": [
        "Now not for random dataset: "
      ]
    },
    {
      "cell_type": "code",
      "metadata": {
        "id": "XcMOefDKgFzQ",
        "outputId": "5240556a-4dd2-49e9-e1ca-f50523a4806c",
        "colab": {
          "base_uri": "https://localhost:8080/",
          "height": 34
        }
      },
      "source": [
        "x = np.array([[ 1 , 0],\n",
        "       [ 0. ,  0.4],\n",
        "       [ 5.        ,  5.        ],\n",
        "       [ 1.        ,  1.        ]])\n",
        "\n",
        "# Standartise data\n",
        "x = (x - np.mean(x, axis=0)) / np.std(x, axis=0)\n",
        "\n",
        "x = np.c_[ x, np.ones(x.shape[0]) ] # add column of ones for bias\n",
        "y = np.array(2*[-1]+2*[1])\n",
        "W = np.array([1.123, -2.7, 3.1])\n",
        "\n",
        "result = fmin_slsqp(func, W, bounds=[(-1000, 1000)]*len(W), args=(x, y), disp=False, full_output=True)\n",
        "Wopt, fW, its, imode, smode = result\n",
        "\n",
        "if imode != 0:\n",
        "    print(\"Optimization failed: \" + smode)\n",
        "else:\n",
        "    print(Wopt)"
      ],
      "execution_count": 49,
      "outputs": [
        {
          "output_type": "stream",
          "text": [
            "[23.43703059 20.47363671 20.58103203]\n"
          ],
          "name": "stdout"
        }
      ]
    },
    {
      "cell_type": "code",
      "metadata": {
        "id": "xLWbWEEPm-8P",
        "outputId": "f87e7639-34f2-4d91-b2ae-10ce0d49db2c",
        "colab": {
          "base_uri": "https://localhost:8080/",
          "height": 281
        }
      },
      "source": [
        "b = Wopt[2]\n",
        "m0 = Wopt[0]\n",
        "m1 = Wopt[1]\n",
        "\n",
        "#Plot\n",
        "x_vals = np.linspace(x.min(),x.max(),100)\n",
        "y_vals = -(m0/m1)*x_vals - b/m1\n",
        "\n",
        "plt.scatter(x[y==-1][:,0], x[y==-1][:,1])\n",
        "plt.scatter(x[y==1][:,0], x[y==1][:,1])\n",
        "plt.plot(x_vals, y_vals, label = 'custom_loss')\n",
        "m1 = -0.527\n",
        "b1 = 1.1\n",
        "t = np.linspace(-1, 3.5, 50)\n",
        "plt.plot(t, m1*t+b1, color='purple', label='manual')\n",
        "\n",
        "plt.title('Case of LR not separating different classes')\n",
        "plt.grid(True)\n",
        "plt.legend()\n",
        "plt.show()"
      ],
      "execution_count": 50,
      "outputs": [
        {
          "output_type": "display_data",
          "data": {
            "image/png": "[encoded data removed]",
            "text/plain": [
              "<Figure size 432x288 with 1 Axes>"
            ]
          },
          "metadata": {
            "tags": [],
            "needs_background": "light"
          }
        }
      ]
    },
    {
      "cell_type": "code",
      "metadata": {
        "id": "T2q8IiKFoFx8"
      },
      "source": [
        ""
      ],
      "execution_count": null,
      "outputs": []
    }
  ]
}