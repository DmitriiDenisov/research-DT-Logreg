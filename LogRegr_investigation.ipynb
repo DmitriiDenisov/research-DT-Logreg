{
  "nbformat": 4,
  "nbformat_minor": 0,
  "metadata": {
    "colab": {
      "name": "LogRegr_investigation.ipynb",
      "provenance": [],
      "authorship_tag": "ABX9TyMGS9MizpbjyVR5tITLWVCt",
      "include_colab_link": true
    },
    "kernelspec": {
      "name": "python3",
      "display_name": "Python 3"
    }
  },
  "cells": [
    {
      "cell_type": "markdown",
      "metadata": {
        "id": "view-in-github",
        "colab_type": "text"
      },
      "source": [
        "<a href=\"https://colab.research.google.com/github/DmitriiDenisov/research-DT-Logreg/blob/master/LogRegr_investigation.ipynb\" target=\"_parent\"><img src=\"https://colab.research.google.com/assets/colab-badge.svg\" alt=\"Open In Colab\"/></a>"
      ]
    },
    {
      "cell_type": "code",
      "metadata": {
        "id": "fEfIv93RjtPk",
        "colab_type": "code",
        "colab": {}
      },
      "source": [
        "import numpy as np\n",
        "import matplotlib.pyplot as plt\n",
        "from sklearn.metrics import log_loss\n",
        "from sklearn.linear_model import LogisticRegression"
      ],
      "execution_count": 110,
      "outputs": []
    },
    {
      "cell_type": "code",
      "metadata": {
        "id": "z95lNdh5kLWR",
        "colab_type": "code",
        "colab": {}
      },
      "source": [
        "np.set_printoptions(suppress=True)"
      ],
      "execution_count": 111,
      "outputs": []
    },
    {
      "cell_type": "code",
      "metadata": {
        "id": "Ls13afqW22O3",
        "colab_type": "code",
        "colab": {
          "base_uri": "https://localhost:8080/",
          "height": 281
        },
        "outputId": "fc6a5e0d-8b11-4daa-a251-3365d5aea909"
      },
      "source": [
        "np.random.seed(7)\n",
        "n = 3\n",
        "\n",
        "X = np.array([[ 1 , 0],\n",
        "       [ 0. ,  0.4],\n",
        "       [ 5.        ,  5.        ],\n",
        "       [ 1.        ,  1.        ]])\n",
        "\n",
        "y = np.array(2*[0]+2*[1])\n",
        "\n",
        "lr = LogisticRegression(C=1)\n",
        "#lr = LinearSVC(C=1e1)\n",
        "lr.fit(X, y)\n",
        "b = lr.intercept_[0]\n",
        "m0 = lr.coef_[0][0]\n",
        "m1 = lr.coef_[0][1]\n",
        "\n",
        "#Plot\n",
        "x_vals = np.linspace(X.min(),X.max(),100)\n",
        "y_vals = -(m0/m1)*x_vals - b/m1\n",
        "\n",
        "plt.scatter(X[y==0][:,0], X[y==0][:,1])\n",
        "plt.scatter(X[y==1][:,0], X[y==1][:,1])\n",
        "plt.plot(x_vals, y_vals, label = 'lr')\n",
        "m1 = -0.527\n",
        "b1 = 1.1\n",
        "t = np.linspace(-1, 3.5, 50)\n",
        "plt.plot(t, m1*t+b1, color='purple', label='manual')\n",
        "\n",
        "plt.title('Case of LR not separating different classes')\n",
        "plt.grid(True)\n",
        "plt.legend()\n",
        "plt.show()"
      ],
      "execution_count": 79,
      "outputs": [
        {
          "output_type": "display_data",
          "data": {
            "image/png": "[encoded data removed]",
            "text/plain": [
              "<Figure size 432x288 with 1 Axes>"
            ]
          },
          "metadata": {
            "tags": [],
            "needs_background": "light"
          }
        }
      ]
    },
    {
      "cell_type": "code",
      "metadata": {
        "id": "9omx4SbzO4TZ",
        "colab_type": "code",
        "colab": {
          "base_uri": "https://localhost:8080/",
          "height": 34
        },
        "outputId": "8540644d-ea0c-435c-e073-4c3d34d9caab"
      },
      "source": [
        "print(lr.intercept_, lr.coef_)"
      ],
      "execution_count": 80,
      "outputs": [
        {
          "output_type": "stream",
          "text": [
            "[-1.19314791] [[0.38186445 0.57885816]]\n"
          ],
          "name": "stdout"
        }
      ]
    },
    {
      "cell_type": "code",
      "metadata": {
        "id": "NkO-qDxLOmhF",
        "colab_type": "code",
        "colab": {}
      },
      "source": [
        "# Сначала покажем, что мы верно записываем формулу для predict_proba + формулу для loss\n",
        "y_pred_form = 1 / (1 + np.exp( - (np.dot(X, lr.coef_.T) + lr.intercept_).flatten() ))\n",
        "assert (lr.predict_proba(X)[:, 1] == y_pred_form).all()\n",
        "assert log_loss(y, y_pred_form) == np.mean(-(y * np.log(y_pred_form) + (1 - y) * np.log(1 - y_pred_form)))"
      ],
      "execution_count": 107,
      "outputs": []
    },
    {
      "cell_type": "code",
      "metadata": {
        "id": "bJMIfKjc3rim",
        "colab_type": "code",
        "colab": {
          "base_uri": "https://localhost:8080/",
          "height": 51
        },
        "outputId": "27dc80e3-e6b9-43de-c273-a7f3423f7d94"
      },
      "source": [
        "# Теперь считаем Loss для найденных параметров Лог Регр\n",
        "y_pred_form = 1 / (1 + np.exp( - (np.dot(X, lr.coef_.T) + lr.intercept_).flatten() ))\n",
        "print(y_pred_form)\n",
        "np.mean(-(y * np.log(y_pred_form) + (1 - y) * np.log(1 - y_pred_form)))"
      ],
      "execution_count": 108,
      "outputs": [
        {
          "output_type": "stream",
          "text": [
            "[0.30761707 0.27655703 0.97367261 0.44215385]\n"
          ],
          "name": "stdout"
        },
        {
          "output_type": "execute_result",
          "data": {
            "text/plain": [
              "0.3835318015270139"
            ]
          },
          "metadata": {
            "tags": []
          },
          "execution_count": 108
        }
      ]
    },
    {
      "cell_type": "code",
      "metadata": {
        "id": "dxr0kVvW4dCX",
        "colab_type": "code",
        "colab": {
          "base_uri": "https://localhost:8080/",
          "height": 51
        },
        "outputId": "bc84a4c3-a665-49da-db09-7c74a2318448"
      },
      "source": [
        "# Теперь считаем Loss для тех же параметров, умноженных на k\n",
        "k=2\n",
        "y_pred_form = 1 / (1 + np.exp( - (np.dot(X, k * lr.coef_.T) + k * lr.intercept_).flatten() ))\n",
        "print(y_pred_form)\n",
        "np.mean(-(y * np.log(y_pred_form) + (1 - y) * np.log(1 - y_pred_form)))"
      ],
      "execution_count": 109,
      "outputs": [
        {
          "output_type": "stream",
          "text": [
            "[0.16485117 0.12750412 0.99926941 0.38583576]\n"
          ],
          "name": "stdout"
        },
        {
          "output_type": "execute_result",
          "data": {
            "text/plain": [
              "0.31740425174104714"
            ]
          },
          "metadata": {
            "tags": []
          },
          "execution_count": 109
        }
      ]
    }
  ]
}